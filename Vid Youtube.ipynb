{
 "cells": [
  {
   "cell_type": "code",
   "execution_count": 15,
   "metadata": {},
   "outputs": [],
   "source": [
    "import pytube\n",
    "import os"
   ]
  },
  {
   "cell_type": "code",
   "execution_count": 16,
   "metadata": {},
   "outputs": [
    {
     "data": {
      "text/plain": [
       "'C:\\\\Work\\\\PyLEARN\\\\Vid YT\\\\Power Apps Model-Driven Apps Tutorial for Complete Beginners (2023 UPDATED).mp4'"
      ]
     },
     "execution_count": 16,
     "metadata": {},
     "output_type": "execute_result"
    }
   ],
   "source": [
    "url = \"https://youtu.be/JtMKcvQcKNY?si=frYlx6GbbzAIB3ug\"\n",
    "\n",
    "yt = pytube.YouTube(url)\n",
    "\n",
    "\n",
    "\n",
    "\n",
    "desktop_path = os.path.expanduser(\"C:\\Work\\PyLEARN\\Vid YT\")\n",
    "\n",
    "yt.streams.get_highest_resolution().download(output_path=desktop_path)"
   ]
  }
 ],
 "metadata": {
  "kernelspec": {
   "display_name": "Python 3",
   "language": "python",
   "name": "python3"
  },
  "language_info": {
   "codemirror_mode": {
    "name": "ipython",
    "version": 3
   },
   "file_extension": ".py",
   "mimetype": "text/x-python",
   "name": "python",
   "nbconvert_exporter": "python",
   "pygments_lexer": "ipython3",
   "version": "3.11.2"
  }
 },
 "nbformat": 4,
 "nbformat_minor": 2
}
